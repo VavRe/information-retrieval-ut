{
 "cells": [
  {
   "cell_type": "code",
   "execution_count": 2,
   "id": "32a4eb22-e0ac-4edf-a3a5-0058739ea595",
   "metadata": {},
   "outputs": [],
   "source": [
    "import networkx as nx"
   ]
  },
  {
   "cell_type": "code",
   "execution_count": 3,
   "id": "50c53ff0-27eb-49ea-be18-d716014dfb07",
   "metadata": {},
   "outputs": [
    {
     "name": "stdout",
     "output_type": "stream",
     "text": [
      "DiGraph with 27770 nodes and 352807 edges\n"
     ]
    }
   ],
   "source": [
    "edge_list = open(\"./datasets/Cit-HepTh.txt\",\"r\")\n",
    "data = edge_list.read().splitlines()\n",
    "G = nx.read_edgelist(data,create_using=nx.DiGraph())\n",
    "print(G)"
   ]
  },
  {
   "cell_type": "code",
   "execution_count": 8,
   "id": "567687fe-d670-4d83-b86a-23de0030940d",
   "metadata": {},
   "outputs": [],
   "source": [
    "pageranks = nx.pagerank(G)"
   ]
  },
  {
   "cell_type": "code",
   "execution_count": 14,
   "id": "1eea32ff-4ed1-43c1-aa24-4788ee054682",
   "metadata": {},
   "outputs": [
    {
     "data": {
      "text/plain": [
       "{'9407087': 0.006238910935211853,\n",
       " '9503124': 0.004632588508880592,\n",
       " '9510017': 0.00438516933679889,\n",
       " '9402044': 0.00393534733441006,\n",
       " '9711200': 0.003409682539237114}"
      ]
     },
     "execution_count": 14,
     "metadata": {},
     "output_type": "execute_result"
    }
   ],
   "source": [
    "{k: v for k, v in sorted(pageranks.items(), key=lambda item: -item[1])[:5]}"
   ]
  },
  {
   "cell_type": "code",
   "execution_count": null,
   "id": "8340289d-040d-4227-a7d1-51f9d0ce668c",
   "metadata": {},
   "outputs": [],
   "source": []
  }
 ],
 "metadata": {
  "kernelspec": {
   "display_name": "Python 3 (ipykernel)",
   "language": "python",
   "name": "python3"
  },
  "language_info": {
   "codemirror_mode": {
    "name": "ipython",
    "version": 3
   },
   "file_extension": ".py",
   "mimetype": "text/x-python",
   "name": "python",
   "nbconvert_exporter": "python",
   "pygments_lexer": "ipython3",
   "version": "3.10.6"
  }
 },
 "nbformat": 4,
 "nbformat_minor": 5
}
