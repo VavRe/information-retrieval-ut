{
 "cells": [
  {
   "cell_type": "code",
   "execution_count": 1,
   "id": "32a4eb22-e0ac-4edf-a3a5-0058739ea595",
   "metadata": {},
   "outputs": [],
   "source": [
    "import networkx as nx"
   ]
  },
  {
   "cell_type": "code",
   "execution_count": 2,
   "id": "50c53ff0-27eb-49ea-be18-d716014dfb07",
   "metadata": {},
   "outputs": [
    {
     "name": "stdout",
     "output_type": "stream",
     "text": [
      "DiGraph with 27770 nodes and 352807 edges\n"
     ]
    }
   ],
   "source": [
    "edge_list = open(\"./datasets/Cit-HepTh.txt\",\"r\")\n",
    "data = edge_list.read().splitlines()\n",
    "G = nx.read_edgelist(data,create_using=nx.DiGraph())\n",
    "print(G)"
   ]
  },
  {
   "cell_type": "code",
   "execution_count": 3,
   "id": "567687fe-d670-4d83-b86a-23de0030940d",
   "metadata": {},
   "outputs": [],
   "source": [
    "pageranks = nx.pagerank(G)"
   ]
  },
  {
   "cell_type": "code",
   "execution_count": 7,
   "id": "1eea32ff-4ed1-43c1-aa24-4788ee054682",
   "metadata": {},
   "outputs": [],
   "source": [
    "pageranks_sorted = {k: v for k, v in sorted(pageranks.items(), key=lambda item: -item[1])}\n",
    "pageranks_sorted_top_5 = {k: v for k, v in sorted(pageranks.items(), key=lambda item: -item[1])[:5]}"
   ]
  },
  {
   "cell_type": "code",
   "execution_count": 8,
   "id": "6c2e6a39",
   "metadata": {},
   "outputs": [
    {
     "data": {
      "text/plain": [
       "{'9407087': 0.006238910935211853,\n",
       " '9503124': 0.004632588508880592,\n",
       " '9510017': 0.00438516933679889,\n",
       " '9402044': 0.00393534733441006,\n",
       " '9711200': 0.003409682539237114}"
      ]
     },
     "execution_count": 8,
     "metadata": {},
     "output_type": "execute_result"
    }
   ],
   "source": [
    "pageranks_sorted_top_5"
   ]
  },
  {
   "cell_type": "code",
   "execution_count": 5,
   "id": "8340289d-040d-4227-a7d1-51f9d0ce668c",
   "metadata": {},
   "outputs": [],
   "source": [
    "in_degrees = {}\n",
    "for node in G.nodes:\n",
    "    in_degrees[node] = len(G.in_edges(node)) "
   ]
  },
  {
   "cell_type": "code",
   "execution_count": 79,
   "id": "e45870ac",
   "metadata": {},
   "outputs": [],
   "source": [
    "citation_sorted = {k: v for k, v in sorted(in_degrees.items(), key=lambda item: -item[1])}"
   ]
  },
  {
   "cell_type": "code",
   "execution_count": 9,
   "id": "f2127c01",
   "metadata": {},
   "outputs": [
    {
     "name": "stderr",
     "output_type": "stream",
     "text": [
      "/home/vavre/information-retrieval/information-retrieval-ut/venv/lib/python3.10/site-packages/networkx/algorithms/link_analysis/hits_alg.py:78: FutureWarning: adjacency_matrix will return a scipy.sparse array instead of a matrix in Networkx 3.0.\n",
      "  A = nx.adjacency_matrix(G, nodelist=list(G), dtype=float)\n"
     ]
    }
   ],
   "source": [
    "h,a = nx.hits(G)\n",
    "authority_sorted = {k: v for k, v in sorted(a.items(), key=lambda item: -item[1])}\n",
    "authority_sorted_top_5 = {k: v for k, v in sorted(a.items(), key=lambda item: -item[1])[:5]}\n"
   ]
  },
  {
   "cell_type": "code",
   "execution_count": 10,
   "id": "9f032fec",
   "metadata": {},
   "outputs": [
    {
     "data": {
      "text/plain": [
       "{'9711200': 0.016927084755536826,\n",
       " '9802150': 0.014160907630367623,\n",
       " '9802109': 0.013509195659048935,\n",
       " '9905111': 0.005235612032731984,\n",
       " '9510017': 0.00492566091676189}"
      ]
     },
     "execution_count": 10,
     "metadata": {},
     "output_type": "execute_result"
    }
   ],
   "source": [
    "authority_sorted_top_5"
   ]
  }
 ],
 "metadata": {
  "kernelspec": {
   "display_name": "venv",
   "language": "python",
   "name": "python3"
  },
  "language_info": {
   "codemirror_mode": {
    "name": "ipython",
    "version": 3
   },
   "file_extension": ".py",
   "mimetype": "text/x-python",
   "name": "python",
   "nbconvert_exporter": "python",
   "pygments_lexer": "ipython3",
   "version": "3.10.6"
  },
  "vscode": {
   "interpreter": {
    "hash": "9d8d4e903825864531364c676817c069b9556c199f8795499b6e9d31fc0280e8"
   }
  }
 },
 "nbformat": 4,
 "nbformat_minor": 5
}
